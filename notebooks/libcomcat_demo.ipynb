{
 "cells": [
  {
   "cell_type": "markdown",
   "metadata": {},
   "source": [
    "Dependencies:\n",
    " - conda install numpy\n",
    " - conda install pandas\n",
    " - conda install cartopy\n",
    " - conda install libcomcat"
   ]
  },
  {
   "cell_type": "code",
   "execution_count": null,
   "metadata": {},
   "outputs": [],
   "source": [
    "%matplotlib inline"
   ]
  },
  {
   "cell_type": "code",
   "execution_count": 7,
   "metadata": {},
   "outputs": [],
   "source": [
    "# stdlib imports\n",
    "from datetime import datetime\n",
    "import pickle\n",
    "from io import StringIO\n",
    "\n",
    "# NEIC imports\n",
    "from libcomcat.search import search, get_event_by_id\n",
    "from libcomcat.dataframes import (get_summary_data_frame, \n",
    "                                  get_pager_data_frame,\n",
    "                                  get_detail_data_frame)\n",
    "\n",
    "# third party imports\n",
    "import cartopy.crs as ccrs\n",
    "import cartopy.feature as cfeature\n",
    "import matplotlib.pyplot as plt\n",
    "import numpy as np\n",
    "import pandas as pd"
   ]
  },
  {
   "cell_type": "markdown",
   "metadata": {},
   "source": [
    "Define useful constants"
   ]
  },
  {
   "cell_type": "code",
   "execution_count": null,
   "metadata": {},
   "outputs": [],
   "source": [
    "TIMEFMT = '%b %d, %Y'\n",
    "OCEAN_COLOR = [0.77647059, 0.76862745, 0.79215686]\n",
    "LAND_COLOR = [0.92156863, 0.92156863, 0.92156863]\n",
    "YELLOW = np.array([255,255,10])/255\n",
    "ORANGE = np.array([252,135,9])/255\n",
    "RED = np.array([251,0,7])/255"
   ]
  },
  {
   "cell_type": "markdown",
   "metadata": {},
   "source": [
    "# Download Large Events Since 1900"
   ]
  },
  {
   "cell_type": "code",
   "execution_count": null,
   "metadata": {},
   "outputs": [],
   "source": [
    "minmag = 7.5\n",
    "maxmag = 9.9\n",
    "stime = datetime(1900,1,1)\n",
    "etime = datetime.utcnow()\n",
    "\n",
    "events = search(starttime=stime,\n",
    "                endtime=etime,\n",
    "               minmagnitude=minmag,\n",
    "               maxmagnitude=maxmag)\n",
    "bigframe = get_summary_data_frame(events)"
   ]
  },
  {
   "cell_type": "markdown",
   "metadata": {},
   "source": [
    "(Load files from here if Internet goes down)"
   ]
  },
  {
   "cell_type": "code",
   "execution_count": null,
   "metadata": {},
   "outputs": [],
   "source": [
    "bigframe = pd.read_csv('bigframe.csv')"
   ]
  },
  {
   "cell_type": "code",
   "execution_count": null,
   "metadata": {},
   "outputs": [],
   "source": [
    "print('%i M7.5+ events since %s' % (len(bigframe), stime.strftime(TIMEFMT)))\n",
    "bigframe.head()"
   ]
  },
  {
   "cell_type": "markdown",
   "metadata": {},
   "source": [
    "# Make Map of Large Events"
   ]
  },
  {
   "cell_type": "code",
   "execution_count": null,
   "metadata": {},
   "outputs": [],
   "source": [
    "# make a map\n",
    "map_proj = ccrs.Robinson()\n",
    "geo_proj = ccrs.PlateCarree()\n",
    "fig = plt.figure(figsize=(15,12))\n",
    "ax1 = plt.subplot(1, 1, 1, projection=map_proj)\n",
    "ax1.stock_img()\n",
    "scale = '50m'\n",
    "land = cfeature.NaturalEarthFeature(category='physical',\n",
    "                                    name='land',\n",
    "                                    scale=scale,\n",
    "                                    facecolor=LAND_COLOR)\n",
    "ocean = cfeature.NaturalEarthFeature(category='physical',\n",
    "                                     name='ocean',\n",
    "                                     scale=scale,\n",
    "                                     facecolor=OCEAN_COLOR)\n",
    "#ax1.add_feature(land)\n",
    "#ax1.add_feature(ocean)\n",
    "ax1.coastlines(resolution=scale, zorder=10, linewidth=1)\n",
    "\n",
    "ax1.plot(bigframe.longitude, bigframe.latitude, 'r.',transform=geo_proj);\n",
    "ax1.set_title('M 7.5+ events since 1900');"
   ]
  },
  {
   "cell_type": "markdown",
   "metadata": {},
   "source": [
    "# Map Two Years of Significant PAGER Alerts"
   ]
  },
  {
   "cell_type": "code",
   "execution_count": null,
   "metadata": {},
   "outputs": [],
   "source": [
    "# get pager loss and exposure information (currently PAGER results only go back a few years)\n",
    "stime = datetime(2017,6,1)\n",
    "etime = datetime.utcnow()\n",
    "\n",
    "yellows = search(starttime=stime,\n",
    "               endtime=etime,\n",
    "               alertlevel='yellow')\n",
    "oranges = search(starttime=stime,\n",
    "               endtime=etime,\n",
    "               alertlevel='orange')\n",
    "reds = search(starttime=stime,\n",
    "               endtime=etime,\n",
    "               alertlevel='red')"
   ]
  },
  {
   "cell_type": "code",
   "execution_count": null,
   "metadata": {},
   "outputs": [],
   "source": [
    "with open('yellows.pkl','rb') as yellowfile:\n",
    "    yellows = pickle.load(yellowfile)\n",
    "with open('oranges.pkl','rb') as orangefile:\n",
    "    oranges = pickle.load(orangefile)\n",
    "with open('reds.pkl','rb') as redfile:\n",
    "    reds = pickle.load(redfile)\n",
    "print(len(yellows), len(oranges), len(reds))"
   ]
  },
  {
   "cell_type": "code",
   "execution_count": null,
   "metadata": {},
   "outputs": [],
   "source": [
    "print('%i Yellow Alerts' % (len(yellows)))\n",
    "print('%i Orange Alerts' % (len(oranges)))\n",
    "print('%i Red Alerts' % (len(reds)))"
   ]
  },
  {
   "cell_type": "code",
   "execution_count": null,
   "metadata": {},
   "outputs": [],
   "source": [
    "# make a map\n",
    "map_proj = ccrs.Robinson()\n",
    "geo_proj = ccrs.PlateCarree()\n",
    "fig = plt.figure(figsize=(15,12))\n",
    "ax1 = plt.subplot(1, 1, 1, projection=map_proj)\n",
    "ax1.stock_img()\n",
    "scale = '50m'\n",
    "land = cfeature.NaturalEarthFeature(category='physical',\n",
    "                                    name='land',\n",
    "                                    scale=scale,\n",
    "                                    facecolor=LAND_COLOR)\n",
    "ocean = cfeature.NaturalEarthFeature(category='physical',\n",
    "                                     name='ocean',\n",
    "                                     scale=scale,\n",
    "                                     facecolor=OCEAN_COLOR)\n",
    "ax1.coastlines(resolution=scale, zorder=2, linewidth=1)\n",
    "\n",
    "for event in yellows:\n",
    "    ax1.plot(event.longitude, event.latitude, \n",
    "             color=YELLOW, marker='o', zorder=5,\n",
    "             markersize=14, transform=geo_proj)\n",
    "\n",
    "for event in oranges:\n",
    "    ax1.plot(event.longitude, event.latitude, \n",
    "             color=ORANGE, marker='o', zorder=6,\n",
    "             markersize=14, transform=geo_proj)\n",
    "\n",
    "for event in reds:\n",
    "    ax1.plot(event.longitude, event.latitude, \n",
    "             color=RED, marker='o', zorder=7,\n",
    "             markersize=14, transform=geo_proj)\n",
    "    \n",
    "ax1.set_title('Significant events since Jul 1, 2017');"
   ]
  },
  {
   "cell_type": "markdown",
   "metadata": {},
   "source": [
    "# Map of DYFI Responses"
   ]
  },
  {
   "cell_type": "code",
   "execution_count": 13,
   "metadata": {},
   "outputs": [
    {
     "data": {
      "text/html": [
       "<div>\n",
       "<style scoped>\n",
       "    .dataframe tbody tr th:only-of-type {\n",
       "        vertical-align: middle;\n",
       "    }\n",
       "\n",
       "    .dataframe tbody tr th {\n",
       "        vertical-align: top;\n",
       "    }\n",
       "\n",
       "    .dataframe thead th {\n",
       "        text-align: right;\n",
       "    }\n",
       "</style>\n",
       "<table border=\"1\" class=\"dataframe\">\n",
       "  <thead>\n",
       "    <tr style=\"text-align: right;\">\n",
       "      <th></th>\n",
       "      <th>mmi</th>\n",
       "      <th>nresp</th>\n",
       "      <th>dist</th>\n",
       "      <th>lat</th>\n",
       "      <th>lon</th>\n",
       "      <th>nbad</th>\n",
       "      <th>error</th>\n",
       "    </tr>\n",
       "  </thead>\n",
       "  <tbody>\n",
       "    <tr>\n",
       "      <th>0</th>\n",
       "      <td>3.4</td>\n",
       "      <td>1</td>\n",
       "      <td>690</td>\n",
       "      <td>39.5896</td>\n",
       "      <td>-123.7745</td>\n",
       "      <td>0</td>\n",
       "      <td>0.33</td>\n",
       "    </tr>\n",
       "    <tr>\n",
       "      <th>1</th>\n",
       "      <td>3.8</td>\n",
       "      <td>1</td>\n",
       "      <td>684</td>\n",
       "      <td>39.6536</td>\n",
       "      <td>-123.6236</td>\n",
       "      <td>0</td>\n",
       "      <td>0.33</td>\n",
       "    </tr>\n",
       "    <tr>\n",
       "      <th>2</th>\n",
       "      <td>1.0</td>\n",
       "      <td>1</td>\n",
       "      <td>587</td>\n",
       "      <td>38.8083</td>\n",
       "      <td>-123.0172</td>\n",
       "      <td>0</td>\n",
       "      <td>0.33</td>\n",
       "    </tr>\n",
       "    <tr>\n",
       "      <th>3</th>\n",
       "      <td>1.0</td>\n",
       "      <td>1</td>\n",
       "      <td>595</td>\n",
       "      <td>39.0515</td>\n",
       "      <td>-122.9133</td>\n",
       "      <td>0</td>\n",
       "      <td>0.33</td>\n",
       "    </tr>\n",
       "    <tr>\n",
       "      <th>4</th>\n",
       "      <td>2.0</td>\n",
       "      <td>1</td>\n",
       "      <td>549</td>\n",
       "      <td>38.4386</td>\n",
       "      <td>-122.8109</td>\n",
       "      <td>0</td>\n",
       "      <td>0.33</td>\n",
       "    </tr>\n",
       "  </tbody>\n",
       "</table>\n",
       "</div>"
      ],
      "text/plain": [
       "   mmi  nresp  dist      lat       lon  nbad  error\n",
       "0  3.4      1   690  39.5896 -123.7745     0   0.33\n",
       "1  3.8      1   684  39.6536 -123.6236     0   0.33\n",
       "2  1.0      1   587  38.8083 -123.0172     0   0.33\n",
       "3  1.0      1   595  39.0515 -122.9133     0   0.33\n",
       "4  2.0      1   549  38.4386 -122.8109     0   0.33"
      ]
     },
     "execution_count": 13,
     "metadata": {},
     "output_type": "execute_result"
    }
   ],
   "source": [
    "detail = get_event_by_id('ci38457511')\n",
    "dyfi = detail.getProducts('dyfi')[0]\n",
    "geo1km_bytes, url = dyfi.getContentBytes('cdi_geo_1km.txt')\n",
    "geo1km = geo1km_bytes.decode('utf-8')\n",
    "cols = ['utmc1', 'mmi', 'nresp', 'dist', 'lat', 'lon', 'nbad', 'error', 'utmc2']\n",
    "usecols = ['lat', 'lon', 'mmi', 'nresp', 'dist', 'nbad', 'error']\n",
    "df = pd.read_csv(StringIO(geo1km), \n",
    "                 skiprows=1, \n",
    "                 names=cols,\n",
    "                 usecols=usecols,\n",
    "                 index_col=False)\n",
    "df\n",
    "df.head()"
   ]
  },
  {
   "cell_type": "code",
   "execution_count": null,
   "metadata": {},
   "outputs": [],
   "source": [
    "# get exposure data for orange/red events\n",
    "sigframe = get_pager_data_frame(oranges[0].getDetailEvent())\n",
    "for orange in oranges[1:]:\n",
    "    detail = orange.getDetailEvent();\n",
    "    dframe = get_pager_data_frame(detail)\n",
    "    sigframe = sigframe.append(dframe.iloc[0])\n",
    "for red in reds[1:]:\n",
    "    detail = red.getDetailEvent();\n",
    "    dframe = get_pager_data_frame(detail)\n",
    "    sigframe = sigframe.append(dframe.iloc[0])\n",
    "sigframe"
   ]
  },
  {
   "cell_type": "code",
   "execution_count": null,
   "metadata": {},
   "outputs": [],
   "source": [
    "with open('yellows.pkl','wb') as yellowfile:\n",
    "    pickle.dump(yellows, yellowfile)\n",
    "with open('oranges.pkl','wb') as orangefile:\n",
    "    pickle.dump(oranges, orangefile)\n",
    "with open('reds.pkl','wb') as redfile:\n",
    "    pickle.dump(reds, redfile)"
   ]
  },
  {
   "cell_type": "code",
   "execution_count": null,
   "metadata": {},
   "outputs": [],
   "source": [
    "del yellows\n",
    "del oranges\n",
    "del reds"
   ]
  },
  {
   "cell_type": "code",
   "execution_count": null,
   "metadata": {},
   "outputs": [],
   "source": [
    "bigframe.to_csv('bigframe.csv')"
   ]
  },
  {
   "cell_type": "code",
   "execution_count": null,
   "metadata": {},
   "outputs": [],
   "source": [
    "del bigframe"
   ]
  },
  {
   "cell_type": "code",
   "execution_count": null,
   "metadata": {},
   "outputs": [],
   "source": []
  }
 ],
 "metadata": {
  "kernelspec": {
   "display_name": "Python 3",
   "language": "python",
   "name": "python3"
  },
  "language_info": {
   "codemirror_mode": {
    "name": "ipython",
    "version": 3
   },
   "file_extension": ".py",
   "mimetype": "text/x-python",
   "name": "python",
   "nbconvert_exporter": "python",
   "pygments_lexer": "ipython3",
   "version": "3.7.3"
  }
 },
 "nbformat": 4,
 "nbformat_minor": 2
}
